{
  "nbformat": 4,
  "nbformat_minor": 0,
  "metadata": {
    "colab": {
      "provenance": [],
      "collapsed_sections": [],
      "authorship_tag": "ABX9TyMnKs0mq/zJGC+zjainvuhe",
      "include_colab_link": true
    },
    "kernelspec": {
      "name": "python3",
      "display_name": "Python 3"
    },
    "language_info": {
      "name": "python"
    }
  },
  "cells": [
    {
      "cell_type": "markdown",
      "metadata": {
        "id": "view-in-github",
        "colab_type": "text"
      },
      "source": [
        "<a href=\"https://colab.research.google.com/github/Vvalentinaa/N-gram-Language-Model/blob/main/N_gram_model.ipynb\" target=\"_parent\"><img src=\"https://colab.research.google.com/assets/colab-badge.svg\" alt=\"Open In Colab\"/></a>"
      ]
    },
    {
      "cell_type": "markdown",
      "source": [
        "$\\textbf{Реализация классической N-gram Language Model} \\\\\n",
        "\\textbf{0. Библиотеки}$\n",
        "  *   **re** - $\\text{для работы с регулярными выражениями}$\n",
        "  *   **nltk** - $\\text{пакет библиотек и программ для символьной и статистической обработки естественного языка}$\n",
        "\n"
      ],
      "metadata": {
        "id": "_NPTf55yil4V"
      }
    },
    {
      "cell_type": "code",
      "source": [
        "import re\n",
        "import nltk\n",
        "from string import punctuation\n",
        "from nltk.corpus import stopwords\n",
        "from nltk import bigrams, trigrams, ngrams\n",
        "from nltk import word_tokenize\n",
        "from nltk.lm.preprocessing import pad_both_ends\n",
        "nltk.download('punkt')\n",
        "nltk.download('stopwords')"
      ],
      "metadata": {
        "colab": {
          "base_uri": "https://localhost:8080/"
        },
        "id": "vGsEvjztidtc",
        "outputId": "bab539ec-4d48-4a14-8a0f-df648c9b125d"
      },
      "execution_count": null,
      "outputs": [
        {
          "output_type": "stream",
          "name": "stderr",
          "text": [
            "[nltk_data] Downloading package punkt to /root/nltk_data...\n",
            "[nltk_data]   Package punkt is already up-to-date!\n",
            "[nltk_data] Downloading package stopwords to /root/nltk_data...\n",
            "[nltk_data]   Package stopwords is already up-to-date!\n"
          ]
        },
        {
          "output_type": "execute_result",
          "data": {
            "text/plain": [
              "True"
            ]
          },
          "metadata": {},
          "execution_count": 70
        }
      ]
    },
    {
      "cell_type": "markdown",
      "source": [
        "$\\text{Добавим в дефолтный список пунктуации еще символы,} \\\\ \\text{ которые специфичны для данного текста, в частности:} \\\\ \\text{троеточие, 11 символов \"-\" для обозначения сноски:}$"
      ],
      "metadata": {
        "id": "NekmE5uz1TA_"
      }
    },
    {
      "cell_type": "code",
      "source": [
        "punctuation += '``...-----------'"
      ],
      "metadata": {
        "id": "6bPnLZyf1JyA"
      },
      "execution_count": null,
      "outputs": []
    },
    {
      "cell_type": "markdown",
      "source": [
        "$\\textbf{1. Импорт и препроцессинг данных}$\n",
        "\n",
        "  1.1   $\\text{Импорт данных}$  \n",
        "  \n",
        "  1.2    $\\text{Препроцессинг - токенизация, разбиение на n-граммы}$ \n",
        "\n",
        "$\\text{Данная реализация выполнена с помощью среды Google Colab,поэтому данные импортируются непосредственно с пользовательского гугл-диска.}\n",
        "\\\\ \n",
        "\\text{Выполняя код на локальном блокноте Jupyter Notebook, не составит труда прописать путь до данных на своем ПК.}$\n",
        "\n",
        "\n"
      ],
      "metadata": {
        "id": "Te8oQNxih--v"
      }
    },
    {
      "cell_type": "code",
      "source": [
        "from google.colab import drive\n",
        "drive.mount('/content/drive')"
      ],
      "metadata": {
        "colab": {
          "base_uri": "https://localhost:8080/"
        },
        "id": "sCpCtcY92mWq",
        "outputId": "6e9ff798-fa9e-4ecb-ca7b-c9ed1713f770"
      },
      "execution_count": null,
      "outputs": [
        {
          "output_type": "stream",
          "name": "stdout",
          "text": [
            "Mounted at /content/drive\n"
          ]
        }
      ]
    },
    {
      "cell_type": "code",
      "source": [
        "path = '/content/drive/MyDrive/tolstoi_childhood.txt'\n",
        "textfile = open(path, encoding='utf-8-sig').read()  \n",
        "textfile = re.sub(r'<.+>', '', textfile)      # удаление html-тегов\n",
        "textfile = re.sub(r'\\n', ' ', textfile)       # замена символа окончания строки \\n на пробел\n",
        "sents = nltk.sent_tokenize(textfile.lower())  # разбиение текста на предложения\n",
        "tokens = []\n",
        "for sent in sents:\n",
        "  sent = nltk.word_tokenize(sent)             # разбиение предложений на слова\n",
        "  sent = [word for word in sent if word not in punctuation]   # удаление пунктуации\n",
        "  tokens.append(sent)"
      ],
      "metadata": {
        "id": "rRgMU-qX5ASA"
      },
      "execution_count": null,
      "outputs": []
    },
    {
      "cell_type": "markdown",
      "source": [
        "$\n",
        "\\text{Хотелось бы еще знать, какие слова чаще встречаются в начале предложения или в конце. Для решения этой задачи в библиотеке nltk } \\\\ \\text{ есть функция pad_sequence, добавляющая задаваемый пользователем символ в начало и в конец предложения(опционально).}  \\\\\n",
        "\\text{Для удобства будем использовать специальную функцию в модуле nltk.lm - pad_both_ends, добавляющая спецсимвол <s> } \\\\ \\text{в начало предложения и аналогично <\\s> в конец.}\n",
        "$\n"
      ],
      "metadata": {
        "id": "DW6A9_45wMo9"
      }
    },
    {
      "cell_type": "code",
      "source": [
        "trigram_tokens = []\n",
        "for i in range(len(tokens)):\n",
        "  trigram_tokens.append(list(trigrams(pad_both_ends(tokens[i], n=2)))) \n",
        "trigram_tokens[0]"
      ],
      "metadata": {
        "id": "887LzIVnT7Nh"
      },
      "execution_count": null,
      "outputs": []
    },
    {
      "cell_type": "code",
      "source": [
        "# УБРАТЬ !!!!!\n",
        "from nltk.util import everygrams\n",
        "padded_trigrams = []\n",
        "for i in range(len(tokens)):\n",
        "  padded_trigrams.append(list(pad_both_ends(tokens[i], n=3)))\n",
        "list(everygrams(padded_trigrams, max_len=3))"
      ],
      "metadata": {
        "id": "eDLsL2fjb_Wh"
      },
      "execution_count": null,
      "outputs": []
    },
    {
      "cell_type": "markdown",
      "source": [
        "$\\text{Теперь создадим \"словарик\", чтобы модель знала, какие слова ей известны.}$"
      ],
      "metadata": {
        "id": "acu61fz25KWz"
      }
    },
    {
      "cell_type": "code",
      "source": [
        "from nltk.lm.preprocessing import padded_everygram_pipeline\n",
        "train, vocab = padded_everygram_pipeline(2, tokens)"
      ],
      "metadata": {
        "id": "tPtDW4IoV9vl"
      },
      "execution_count": null,
      "outputs": []
    },
    {
      "cell_type": "code",
      "source": [
        "list(trigrams(pad_both_ends(tokens[0], n=3)))"
      ],
      "metadata": {
        "id": "_4zXBsn6S95m"
      },
      "execution_count": null,
      "outputs": []
    },
    {
      "cell_type": "markdown",
      "source": [
        "$\\textbf{2. Training}$\n",
        "$\n",
        "\\text{Библиотека nltk содержит семейство языковых моделей, которые считают условные вероятности при помощи частотного анализа появления} \\\\ \\text{ в тексте n-грам.} \\\\ \n",
        "\\text{Один из таких - класс MLE (Maximum Likelihood Estimator), построенный на основе на основе метода максимального правдоподобия.}\n",
        "$"
      ],
      "metadata": {
        "id": "oWhgycNJZC0g"
      }
    },
    {
      "cell_type": "code",
      "source": [
        "from nltk.lm import MLE\n",
        "lm = MLE(3)\n",
        "lm.fit(train, vocab)  # обучение"
      ],
      "metadata": {
        "id": "vUD-CmDwZUQq"
      },
      "execution_count": null,
      "outputs": []
    },
    {
      "cell_type": "code",
      "source": [
        "print(lm.counts)"
      ],
      "metadata": {
        "colab": {
          "base_uri": "https://localhost:8080/"
        },
        "id": "0gnis7YtZuxW",
        "outputId": "b56dfe6a-6b36-41ff-cf28-95f523743e40"
      },
      "execution_count": null,
      "outputs": [
        {
          "output_type": "stream",
          "name": "stdout",
          "text": [
            "<NgramCounter with 2 ngram orders and 1359976 ngrams>\n"
          ]
        }
      ]
    },
    {
      "cell_type": "code",
      "source": [
        "# lm.counts[['карл']]['иваныч']\n",
        "w = \"карл\"\n",
        "print(lm.counts[w])\n",
        "print(lm.score(w))\n",
        "print(lm.score(\"иваныч\", [\"карл\"]))"
      ],
      "metadata": {
        "colab": {
          "base_uri": "https://localhost:8080/"
        },
        "id": "LuOjqoBWawim",
        "outputId": "48270743-6309-404f-a778-b76483b5116b"
      },
      "execution_count": null,
      "outputs": [
        {
          "output_type": "stream",
          "name": "stdout",
          "text": [
            "90\n",
            "0.0001285326851477626\n",
            "0.8333333333333334\n"
          ]
        }
      ]
    },
    {
      "cell_type": "code",
      "source": [
        "lm.generate(6, random_seed=0)"
      ],
      "metadata": {
        "colab": {
          "base_uri": "https://localhost:8080/"
        },
        "id": "ry-29Oltg3bM",
        "outputId": "6a0d34ca-f7e5-40e1-dcf2-3fd08bc2a188"
      },
      "execution_count": null,
      "outputs": [
        {
          "output_type": "execute_result",
          "data": {
            "text/plain": [
              "['собой', 'разумеется', 'не', 'желающие', 'казаться', 'логическим']"
            ]
          },
          "metadata": {},
          "execution_count": 92
        }
      ]
    },
    {
      "cell_type": "code",
      "source": [
        "lm.generate(8, text_seed=['карл'])"
      ],
      "metadata": {
        "colab": {
          "base_uri": "https://localhost:8080/"
        },
        "id": "q--G9j24Qh7r",
        "outputId": "c7d6808a-59ce-4cec-c544-e06892c31ee3"
      },
      "execution_count": null,
      "outputs": [
        {
          "output_type": "execute_result",
          "data": {
            "text/plain": [
              "['иваныч', 'во-первых', 'чтобы', 'народы', 'и', 'что', 'он', 'не']"
            ]
          },
          "metadata": {},
          "execution_count": 86
        }
      ]
    },
    {
      "cell_type": "markdown",
      "source": [
        "$\\textbf{3. Сохранение модели}$\n"
      ],
      "metadata": {
        "id": "Q4BD9QQuUE-8"
      }
    },
    {
      "cell_type": "code",
      "source": [
        "import pickle\n",
        "with open('ngram_language_model.pkl', 'wb') as fout:\n",
        "    pickle.dump(lm, fout)\n",
        "\n",
        "\n",
        "with open('ngram_language_model.pkl', 'rb') as fin:\n",
        "    model_loaded = pickle.load(fin)\n",
        "\n",
        "lm.generate(20)\n"
      ],
      "metadata": {
        "colab": {
          "base_uri": "https://localhost:8080/"
        },
        "id": "3VH-KQGcUMhv",
        "outputId": "3a9bab82-3907-4e5c-b0d8-edf2e0e33ab1"
      },
      "execution_count": null,
      "outputs": [
        {
          "output_type": "execute_result",
          "data": {
            "text/plain": [
              "['вслед',\n",
              " 'за',\n",
              " 'лекарем',\n",
              " '</s>',\n",
              " 'пьер',\n",
              " 'должен',\n",
              " 'был',\n",
              " 'принят',\n",
              " 'был',\n",
              " 'большой',\n",
              " 'ни',\n",
              " 'бранить',\n",
              " 'ни',\n",
              " 'старался',\n",
              " 'кутузов',\n",
              " 'глядел',\n",
              " 'на',\n",
              " 'его',\n",
              " 'воображении',\n",
              " 'с']"
            ]
          },
          "metadata": {},
          "execution_count": 97
        }
      ]
    }
  ]
}